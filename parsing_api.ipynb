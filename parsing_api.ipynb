{
 "cells": [
  {
   "cell_type": "code",
   "execution_count": null,
   "metadata": {},
   "outputs": [],
   "source": [
    "import requests\n",
    "import os, sys\n",
    "import json\n",
    "from multiprocessing.dummy import Pool as ThreadPool\n",
    "from datetime import datetime\n",
    "import logging"
   ]
  },
  {
   "cell_type": "code",
   "execution_count": null,
   "metadata": {},
   "outputs": [],
   "source": [
    "def get_html(url: str) -> str:\n",
    "    \"\"\"\n",
    "    Вытягивание html файла страницы\n",
    "    url: Коенчный путь к сайту\n",
    "    \"\"\"\n",
    "    try:\n",
    "        html = requests.get(url, verify=False)\n",
    "    except:\n",
    "        raise Exception\n",
    "    if(html.status_code != 200):\n",
    "        print(html.status_code)\n",
    "        raise Exception\n",
    "    return html.text"
   ]
  },
  {
   "cell_type": "code",
   "execution_count": null,
   "metadata": {},
   "outputs": [],
   "source": [
    "def worker(i):\n",
    "        currentFile = \"files\\\\{}.json\".format(i)\n",
    "\n",
    "        if os.path.isfile(currentFile):\n",
    "            logging.info(\"{} - File exists\".format(i))\n",
    "            return 1\n",
    "\n",
    "        url = \"https://m.habr.com/kek/v1/articles/{}/?fl=ru%2Cen&hl=ru\".format(i)\n",
    "        try:\n",
    "            r = get_html(url)\n",
    "        except:\n",
    "            return Exception\n",
    "\n",
    "        data = json.loads(r.text)\n",
    "\n",
    "        if data['success']:\n",
    "            article = data['data']['article']\n",
    "\n",
    "            id = article['id']\n",
    "            is_tutorial = article['is_tutorial']\n",
    "            time_published = article['time_published']\n",
    "            comments_count = article['comments_count']\n",
    "            lang = article['lang']\n",
    "            tags_string = article['tags_string']\n",
    "            title = article['title']\n",
    "            content = article['text_html']\n",
    "            reading_count = article['reading_count']\n",
    "            author = article['author']['login']\n",
    "            score = article['voting']['score']\n",
    "\n",
    "            data = (id, is_tutorial, time_published, title, content, comments_count, lang, tags_string, reading_count, author, score)\n",
    "            with open(currentFile, \"w\") as write_file:\n",
    "                json.dump(data, write_file)"
   ]
  },
  {
   "cell_type": "code",
   "execution_count": null,
   "metadata": {},
   "outputs": [],
   "source": [
    "min = int(490000)\n",
    "max = int(500000)\n",
    "\n",
    "# Если потоков >3\n",
    "# то хабр банит ipшник на время\n",
    "pool = ThreadPool(3)\n",
    "\n",
    "# Отсчет времени, запуск потоков\n",
    "start_time = datetime.now()\n",
    "results = pool.map(worker, range(min, max))\n",
    "\n",
    "# После закрытия всех потоков печатаем время\n",
    "pool.close()\n",
    "pool.join()\n",
    "print(datetime.now() - start_time)"
   ]
  }
 ],
 "metadata": {
  "interpreter": {
   "hash": "b3ba2566441a7c06988d0923437866b63cedc61552a5af99d1f4fb67d367b25f"
  },
  "kernelspec": {
   "display_name": "Python 3.9.7 ('base')",
   "language": "python",
   "name": "python3"
  },
  "language_info": {
   "codemirror_mode": {
    "name": "ipython",
    "version": 3
   },
   "file_extension": ".py",
   "mimetype": "text/x-python",
   "name": "python",
   "nbconvert_exporter": "python",
   "pygments_lexer": "ipython3",
   "version": "3.9.7"
  },
  "orig_nbformat": 4
 },
 "nbformat": 4,
 "nbformat_minor": 2
}
